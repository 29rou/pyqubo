{
 "cells": [
  {
   "cell_type": "code",
   "execution_count": 1,
   "metadata": {},
   "outputs": [],
   "source": [
    "%matplotlib inline\n",
    "from pyqubo import Array, Placeholder, solve_qubo, Constraint, Sum\n",
    "import matplotlib.pyplot as plt\n",
    "import networkx as nx"
   ]
  },
  {
   "cell_type": "markdown",
   "metadata": {},
   "source": [
    "## グラフ彩色問題\n",
    "\n",
    "グラフ$G=(V,E)$と色数$K$が与えられたとき、グラフの頂点を$K$色で塗り分ける (彩色する)。このとき、隣接する頂点 (すなわち、辺で接続されている頂点) は同色にならないという制約下での彩色方法を見つけたい。\n",
    "この問題はQUBOにより次のように定式化される。\n",
    "\n",
    "\\begin{eqnarray*}\n",
    "H &=& \\alpha H_{A} + H_{B} \\\\\n",
    "H_{A} &=& \\sum_{i \\in V} \\left( 1 - \\sum_{k = 1}^{K} x_{i,k}\\right )^2 \\\\\n",
    "H_{B} &=& \\sum_{(i, j) \\in E} \\sum_{k = 1}^{K} x_{i,k} x_{j,k}\n",
    "\\end{eqnarray*}\n",
    "\n",
    "$H_{A}$は1つの頂点はただ1色に対応する制約を表す。$V$内のすべての頂点に対し、頂点が対応する$K$個のバイナリ変数のうち1個だけが1で残りがすべて0のときに$H_{A}=0$となり最小となる。\n",
    "\n",
    "$H_{B}$は隣接する頂点は別色に彩色されるという制約を表す。すべての隣接する頂点ペア (すなわち、$E$内のすべての辺) に対し、同色の隣接が存在しないときに$H_{B}=0$となり最小となる。\n",
    "\n",
    "$\\alpha$は制約の強さを調整するパラメータである。"
   ]
  },
  {
   "cell_type": "code",
   "execution_count": 2,
   "metadata": {},
   "outputs": [],
   "source": [
    "def plot_graph(N, E, colors=None):\n",
    "    G = nx.Graph()\n",
    "    G.add_nodes_from([n for n in range(N)])\n",
    "    for (i, j) in E:\n",
    "        G.add_edge(i, j)\n",
    "    plt.figure(figsize=(4,4))\n",
    "    pos = nx.circular_layout(G)\n",
    "    colorlist = ['#e41a1c', '#377eb8', '#4daf4a', '#984ea3', '#ff7f00', '#ffff33', '#a65628', '#f781bf']\n",
    "    if colors:\n",
    "        nx.draw_networkx(G, pos, node_color=[colorlist[colors[node]] for node in G.nodes], node_size=400, font_weight='bold', font_color='w')\n",
    "    else:\n",
    "        nx.draw_networkx(G, pos, node_color=[colorlist[0] for _ in G.nodes], node_size=400, font_weight='bold', font_color='w')\n",
    "    plt.axis(\"off\")\n",
    "    plt.show()"
   ]
  },
  {
   "cell_type": "code",
   "execution_count": 3,
   "metadata": {},
   "outputs": [
    {
     "data": {
      "image/png": "[encoded data removed]",
      "text/plain": [
       "<Figure size 288x288 with 1 Axes>"
      ]
     },
     "metadata": {},
     "output_type": "display_data"
    }
   ],
   "source": [
    "# 頂点数と色数\n",
    "N = 6\n",
    "K = 3\n",
    "\n",
    "# エッジが以下のように与えられる\n",
    "E = {(0, 1), (0, 2), (0, 3), (1, 2), (2, 3), (3, 4)}\n",
    "plot_graph(N, E)"
   ]
  },
  {
   "cell_type": "markdown",
   "metadata": {},
   "source": [
    "頂点数 $\\times$ 色数 $= 6 \\times 3$次元のバイナリベクトル$x$を用意。$x[i, k]=1$は頂点$i$が色$k$に彩色されていることを表現している (one-hot encoding)。"
   ]
  },
  {
   "cell_type": "code",
   "execution_count": 4,
   "metadata": {},
   "outputs": [],
   "source": [
    "x = Array.create('x', (N, K), 'BINARY')"
   ]
  },
  {
   "cell_type": "code",
   "execution_count": 5,
   "metadata": {},
   "outputs": [],
   "source": [
    "# ある頂点iが1色のみである制約\n",
    "onecolor_const = 0.0\n",
    "for i in range(N):\n",
    "    onecolor_const += Constraint((Sum(0, K, lambda j: x[i, j]) - 1)**2, label=\"onecolor{}\".format(i))"
   ]
  },
  {
   "cell_type": "code",
   "execution_count": 6,
   "metadata": {},
   "outputs": [],
   "source": [
    "# 隣接頂点は異色で塗り分けられるという制約\n",
    "adjacent_const = 0.0\n",
    "for (i, j) in E:\n",
    "    for k in range(K):\n",
    "        adjacent_const += Constraint(x[i, k] * x[j, k], label=\"adjacent({},{})\".format(i, j))"
   ]
  },
  {
   "cell_type": "code",
   "execution_count": 7,
   "metadata": {},
   "outputs": [],
   "source": [
    "# エネルギー (ハミルトニアン) を構築\n",
    "alpha = Placeholder(\"alpha\")\n",
    "H = alpha * onecolor_const + adjacent_const"
   ]
  },
  {
   "cell_type": "code",
   "execution_count": 8,
   "metadata": {},
   "outputs": [],
   "source": [
    "# モデルをコンパイル\n",
    "model = H.compile()\n",
    "\n",
    "# QUBOを作成\n",
    "feed_dict = {'alpha': 1.0}\n",
    "qubo, offset = model.to_qubo(feed_dict=feed_dict)"
   ]
  },
  {
   "cell_type": "code",
   "execution_count": 9,
   "metadata": {},
   "outputs": [
    {
     "name": "stdout",
     "output_type": "stream",
     "text": [
      "number of broken constarint = 0\n"
     ]
    }
   ],
   "source": [
    "# 最適解を求める\n",
    "solution = solve_qubo(qubo)\n",
    "\n",
    "decoded_solution, broken, energy = model.decode_solution(solution, vartype=\"BINARY\", feed_dict=feed_dict)\n",
    "print(\"number of broken constarint = {}\".format(len(broken)))\n",
    "\n",
    "# 各頂点の色を取得する\n",
    "colors = [0 for i in range(N)]\n",
    "for i in range(N):\n",
    "    for k in range(K):\n",
    "        if decoded_solution['x'][i][k] == 1:\n",
    "            colors[i] = k\n",
    "            break"
   ]
  },
  {
   "cell_type": "code",
   "execution_count": 10,
   "metadata": {
    "scrolled": false
   },
   "outputs": [
    {
     "data": {
      "image/png": "[encoded data removed]",
      "text/plain": [
       "<Figure size 288x288 with 1 Axes>"
      ]
     },
     "metadata": {},
     "output_type": "display_data"
    }
   ],
   "source": [
    "# 彩色後のグラフを表示\n",
    "plot_graph(N, E, colors)"
   ]
  }
 ],
 "metadata": {
  "kernelspec": {
   "display_name": "Python 3",
   "language": "python",
   "name": "python3"
  },
  "language_info": {
   "codemirror_mode": {
    "name": "ipython",
    "version": 3
   },
   "file_extension": ".py",
   "mimetype": "text/x-python",
   "name": "python",
   "nbconvert_exporter": "python",
   "pygments_lexer": "ipython3",
   "version": "3.6.5"
  }
 },
 "nbformat": 4,
 "nbformat_minor": 2
}

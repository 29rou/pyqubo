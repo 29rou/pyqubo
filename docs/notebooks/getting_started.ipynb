{
 "cells": [
  {
   "cell_type": "markdown",
   "metadata": {},
   "source": [
    "## Getting Started\n",
    "\n",
    "With PyQUBO, you can construct QUBOs with 3 steps:\n",
    "\n",
    "1. Define the hamiltonian with expressions\n",
    "2. Compile the expression to get the model\n",
    "3. Call 'to_qubo()' method of model."
   ]
  },
  {
   "cell_type": "code",
   "execution_count": 4,
   "metadata": {},
   "outputs": [
    {
     "data": {
      "text/plain": [
       "({('a', 'a'): 2.0, ('c', 'c'): 1.0, ('b', 'b'): 0.0, ('a', 'b'): 1.0}, 0.0)"
      ]
     },
     "execution_count": 4,
     "metadata": {},
     "output_type": "execute_result"
    }
   ],
   "source": [
    "from pyqubo import Qbit\n",
    "\n",
    "# 1. Define the hamiltonian with expressions\n",
    "a, b, c = Qbit('a'), Qbit('b'), Qbit('c')\n",
    "H = a*b + 2*a + c\n",
    "\n",
    "# 2. Compile the expression to get the model\n",
    "model = H.compile()\n",
    "\n",
    "# 3. Call 'to_qubo()' method of model\n",
    "model.to_qubo()"
   ]
  },
  {
   "cell_type": "code",
   "execution_count": null,
   "metadata": {},
   "outputs": [],
   "source": [
    ""
   ]
  }
 ],
 "metadata": {
  "kernelspec": {
   "display_name": "Python 3",
   "language": "python",
   "name": "python3"
  },
  "language_info": {
   "codemirror_mode": {
    "name": "ipython",
    "version": 3.0
   },
   "file_extension": ".py",
   "mimetype": "text/x-python",
   "name": "python",
   "nbconvert_exporter": "python",
   "pygments_lexer": "ipython3",
   "version": "3.6.1"
  }
 },
 "nbformat": 4,
 "nbformat_minor": 0
}